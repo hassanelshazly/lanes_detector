{
 "cells": [
  {
   "cell_type": "code",
   "execution_count": 1,
   "id": "539d524c",
   "metadata": {},
   "outputs": [],
   "source": [
    "import os\n",
    "import sys\n",
    "import matplotlib.pyplot as plt\n",
    "import matplotlib.image as mpimg\n",
    "import numpy as np\n",
    "import math\n",
    "import cv2\n",
    "from moviepy.editor import VideoFileClip\n",
    "from IPython.display import HTML\n",
    "import glob\n",
    "from matplotlib.image import imread"
   ]
  },
  {
   "cell_type": "code",
   "execution_count": 2,
   "id": "fec8dd4c",
   "metadata": {},
   "outputs": [
    {
     "name": "stdout",
     "output_type": "stream",
     "text": [
      "Starting Calibrating Camera\n",
      "Camera successfully calibrated.\n"
     ]
    }
   ],
   "source": [
    "def calibrate_camera():\n",
    "    \"\"\"\n",
    "        Calibrate camera from the provided calibration images\n",
    "    \"\"\"\n",
    "    nx = 9\n",
    "    ny = 6\n",
    "    images = glob.glob('camera_cal/calibration*.jpg')\n",
    "    \n",
    "    print(\"Starting Calibrating Camera\")\n",
    "    # Prepare object points, like (0,0,0), (1,0,0), (2,0,0) ....,(6,5,0)\n",
    "    objp = np.zeros((nx*ny,3), np.float32)\n",
    "    objp[:,:2] = np.mgrid[0:nx,0:ny].T.reshape(-1, 2)\n",
    "\n",
    "    # Arrays to store object points and image points from all the images.\n",
    "    objpoints = [] # 3d points in real world space\n",
    "    imgpoints = [] # 2d points in image plane.\n",
    "\n",
    "    # Apply findChessboardCorners to the individual images\n",
    "    for fname in images:    \n",
    "        img = mpimg.imread(fname)\n",
    "        image_shape = img.shape\n",
    "        gray = cv2.cvtColor(img, cv2.COLOR_RGB2GRAY)\n",
    "\n",
    "        # Find the chessboard corners\n",
    "        ret, corners = cv2.findChessboardCorners(gray, (nx, ny), None)\n",
    "\n",
    "        # If found, add object points, image points\n",
    "        if ret == True:\n",
    "            objpoints.append(objp)\n",
    "            imgpoints.append(corners)\n",
    "\n",
    "    # Camera calibration, given object points, image points, and the shape of the grayscale image\n",
    "    if (len(objpoints) > 0):\n",
    "        # Camera successfully calibrated.\n",
    "        print(\"Camera successfully calibrated.\")\n",
    "        ret, mtx, dist, rvecs, tvecs = cv2.calibrateCamera(objpoints, imgpoints, image_shape[:2], None, None)\n",
    "    else:\n",
    "        # Unable to calibrate the camera.\n",
    "        print(\"Unable to calibrate the camera.\")\n",
    "        ret, mtx, dist, rvecs, tvecs = (None, None, None, None, None)\n",
    "\n",
    "    return mtx, dist\n",
    "\n",
    "mtx, dist = calibrate_camera()\n",
    "    \n",
    "def undistort(image):\n",
    "    \"\"\"\n",
    "        Remove the distortion of an image \n",
    "    \"\"\"\n",
    "    return cv2.undistort(image, mtx, dist, None, mtx)"
   ]
  },
  {
   "cell_type": "code",
   "execution_count": null,
   "id": "81749d11",
   "metadata": {},
   "outputs": [],
   "source": []
  },
  {
   "cell_type": "code",
   "execution_count": null,
   "id": "e7a21e78",
   "metadata": {},
   "outputs": [],
   "source": []
  }
 ],
 "metadata": {
  "kernelspec": {
   "display_name": "Python 3 (ipykernel)",
   "language": "python",
   "name": "python3"
  },
  "language_info": {
   "codemirror_mode": {
    "name": "ipython",
    "version": 3
   },
   "file_extension": ".py",
   "mimetype": "text/x-python",
   "name": "python",
   "nbconvert_exporter": "python",
   "pygments_lexer": "ipython3",
   "version": "3.8.10"
  }
 },
 "nbformat": 4,
 "nbformat_minor": 5
}
